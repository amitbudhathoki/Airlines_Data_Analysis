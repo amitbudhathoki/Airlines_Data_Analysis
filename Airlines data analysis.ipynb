{
 "cells": [
  {
   "cell_type": "markdown",
   "id": "31f06a4d-16e3-4a04-b083-57feea38ed9a",
   "metadata": {},
   "source": [
    "# Arilines Data Analysis "
   ]
  },
  {
   "cell_type": "code",
   "execution_count": null,
   "id": "22ec45ec-ff70-499b-8383-90343b7514e8",
   "metadata": {},
   "outputs": [],
   "source": []
  }
 ],
 "metadata": {
  "kernelspec": {
   "display_name": "Python 3 (ipykernel)",
   "language": "python",
   "name": "python3"
  },
  "language_info": {
   "codemirror_mode": {
    "name": "ipython",
    "version": 3
   },
   "file_extension": ".py",
   "mimetype": "text/x-python",
   "name": "python",
   "nbconvert_exporter": "python",
   "pygments_lexer": "ipython3",
   "version": "3.11.4"
  }
 },
 "nbformat": 4,
 "nbformat_minor": 5
}
